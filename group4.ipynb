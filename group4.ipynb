{
  "nbformat": 4,
  "nbformat_minor": 0,
  "metadata": {
    "colab": {
      "name": "group4.ipynb",
      "provenance": []
    },
    "kernelspec": {
      "name": "python3",
      "display_name": "Python 3"
    }
  },
  "cells": [
    {
      "cell_type": "code",
      "metadata": {
        "id": "Ocx-pwI8rz4t",
        "colab_type": "code",
        "colab": {}
      },
      "source": [
        "# .Theme 4 - Dice Rolling Simulator.\n",
        "import random\n",
        "\n",
        "def player():\n",
        "  player1=input('Please input your number,and press  \"Enter\" butten to start the game')\n",
        "  number1=random.randint(1,6)\n",
        "  print(player1,'got ',number1,'point')\n",
        "  return player1,number1\n",
        "a=player()\n",
        "b=player()\n",
        "\n",
        "def score(a,b):\n",
        "  if a[1]>b[1]:\n",
        "    print('player',a[0],'s point is biger，',a[0],'win!')\n",
        "  elif a[1]<b[1]:\n",
        "    print('player',b[0],'s point is biger，',b[0],'win!')\n",
        "  else:\n",
        "    print('draw')\n",
        "    answer=input('drawed，do you want to play again，yes or no')\n",
        "    if answer=='yes':\n",
        "      a=player()\n",
        "      b=player()\n",
        "      score(a,b)\n",
        "    elif answer=='no':\n",
        "      print('game over')\n",
        "    \n",
        "result = score(a,b)"
      ],
      "execution_count": 0,
      "outputs": []
    }
  ]
}